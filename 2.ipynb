{
 "cells": [
  {
   "cell_type": "code",
   "execution_count": 1,
   "metadata": {},
   "outputs": [],
   "source": [
    "import cv2\n",
    "import numpy as np"
   ]
  },
  {
   "cell_type": "code",
   "execution_count": 16,
   "metadata": {},
   "outputs": [],
   "source": [
    "image = cv2.imread('Ferrari.jpg')\n",
    "\n",
    "# Display the image\n",
    "cv2.imshow('Loaded Image', image)\n",
    "cv2.waitKey(0)\n",
    "cv2.destroyAllWindows()"
   ]
  },
  {
   "cell_type": "code",
   "execution_count": 17,
   "metadata": {},
   "outputs": [],
   "source": [
    "# Draw a line from top-left to bottom-right\n",
    "cv2.line(image, (0, 0), (image.shape[1], image.shape[0]), (255, 0, 0), 5)\n",
    "\n",
    "# Draw a rectangle (top-left corner, bottom-right corner)\n",
    "cv2.rectangle(image, (50, 50), (300, 300), (0, 255, 0), 10)\n",
    "\n",
    "# Draw a circle (center, radius)\n",
    "cv2.circle(image, (200, 200), 100, (0, 0, 255), 5)\n",
    "\n",
    "# Draw an ellipse (center, axes lengths, rotation angle, start angle, end angle)\n",
    "cv2.ellipse(image, (700, 400), (300, 200), 0, 0, 360, (255, 255, 255), 3)\n",
    "\n",
    "# Put text on the image\n",
    "cv2.putText(image, 'Hello, OpenCV!', (10, 500), cv2.FONT_HERSHEY_SIMPLEX, 20, (255, 255, 255),\n",
    "            5)\n",
    "\n",
    "# Display the annotated image\n",
    "cv2.imshow('Annotated Image', image)\n",
    "cv2.waitKey(0)\n",
    "cv2.destroyAllWindows()\n"
   ]
  }
 ],
 "metadata": {
  "kernelspec": {
   "display_name": "Python 3",
   "language": "python",
   "name": "python3"
  },
  "language_info": {
   "codemirror_mode": {
    "name": "ipython",
    "version": 3
   },
   "file_extension": ".py",
   "mimetype": "text/x-python",
   "name": "python",
   "nbconvert_exporter": "python",
   "pygments_lexer": "ipython3",
   "version": "3.10.11"
  }
 },
 "nbformat": 4,
 "nbformat_minor": 2
}
